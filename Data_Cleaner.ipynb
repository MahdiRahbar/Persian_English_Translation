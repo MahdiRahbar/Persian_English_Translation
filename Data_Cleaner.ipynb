{
 "cells": [
  {
   "cell_type": "code",
   "execution_count": 2,
   "metadata": {},
   "outputs": [],
   "source": [
    "import pandas as pd \n",
    "import numpy as np"
   ]
  },
  {
   "cell_type": "code",
   "execution_count": 28,
   "metadata": {},
   "outputs": [],
   "source": [
    "def Data_Cleaner(path,df_s_path,txt_s_path):\n",
    "    f_list = []\n",
    "    with open(path, 'r') as f:\n",
    "        x = f.readlines()\n",
    "    for line in x:\n",
    "        f_list.append(line.split(\"\\t\")[:2]) \n",
    "    \n",
    "    df = pd.DataFrame(f_list)\n",
    "    df.to_csv(df_s_path,encoding='utf-8',header=['eng','per'],index= False)\n",
    "    \n",
    "    with open(txt_s_path , 'w') as filehandle:\n",
    "        filehandle.writelines(\"%s\\t%s\\n\" % (line[0],line[1]) for line in f_list)\n",
    "#         filehandle.writelines(\"%s\\n\" % line[1] for line[1] in f_list)\n",
    "    \n",
    "    return f_list"
   ]
  },
  {
   "cell_type": "code",
   "execution_count": 29,
   "metadata": {},
   "outputs": [],
   "source": [
    "data = Data_Cleaner('./data/pes_eng.txt','./data/pes_eng_edited.csv','./data/pes_eng_edited.txt')"
   ]
  }
 ],
 "metadata": {
  "kernelspec": {
   "display_name": "Python 3",
   "language": "python",
   "name": "python3"
  },
  "language_info": {
   "codemirror_mode": {
    "name": "ipython",
    "version": 3
   },
   "file_extension": ".py",
   "mimetype": "text/x-python",
   "name": "python",
   "nbconvert_exporter": "python",
   "pygments_lexer": "ipython3",
   "version": "3.6.9"
  }
 },
 "nbformat": 4,
 "nbformat_minor": 2
}
